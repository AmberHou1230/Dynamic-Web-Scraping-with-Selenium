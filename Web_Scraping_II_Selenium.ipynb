{
  "cells": [
    {
      "cell_type": "markdown",
      "metadata": {
        "id": "6N8ipO1KkewD"
      },
      "source": [
        "# <center>Web Scraping II -- Dynamic Web Page Scraping with Selenium </center>\n",
        "\n",
        "References:\n",
        "- http://selenium-python.readthedocs.io/getting-started.html\n",
        "- https://www.scrapingbee.com/blog/selenium-python/\n"
      ]
    },
    {
      "cell_type": "markdown",
      "metadata": {
        "id": "iNgOfie6kewH"
      },
      "source": [
        "## 1. Why Selenium\n",
        "- So far, we have learned how to scrape **static** HTML pages using **Requests + BeautifulSoup**\n",
        "- However, if the web content relies on **javascript or AJAX** to build the content, this combination does not work\n",
        "  - Elements in a web page loaded **asynchronously**\n",
        "     * while requests.get(url) can only return the initial content\n",
        "     * you may need to wait for a while to get web content fully loaded\n",
        "  - You need to **interact with the page** to get some content loaded, e.g.\n",
        "     * scroll down to load more\n",
        "     * click a button like \"more\"\n",
        "     * fill a form\n",
        "- Example: https://www.quora.com/topic/Machine-Learning"
      ]
    },
    {
      "cell_type": "code",
      "execution_count": null,
      "metadata": {
        "id": "cchy7rv_kewI"
      },
      "outputs": [],
      "source": [
        "# Exercise 1.1. Scape quora page using requests+beautifulsoup\n",
        "\n",
        "# import requests package\n",
        "import requests\n",
        "\n",
        "# import BeautifulSoup from package bs4 (i.e. beautifulsoup4)\n",
        "from bs4 import BeautifulSoup\n",
        "\n",
        "page = requests.get(\"https://www.quora.com/topic/Machine-Learning\")    # send a get request to the web page\n",
        "\n",
        "if page.status_code==200:\n",
        "\n",
        "    soup = BeautifulSoup(page.content, 'html.parser')\n",
        "\n",
        "    # get all questions\n",
        "    questions=soup.select(\"span.q-box.qu-userSelect--text\")\n",
        "\n",
        "    for i, q in enumerate(questions):\n",
        "        print(i, q.get_text())\n",
        "        print(\"\\n\")\n",
        "\n",
        "# Note: nothing is returned. Do you know why?"
      ]
    },
    {
      "cell_type": "markdown",
      "metadata": {
        "id": "U4FQ5snYkewJ"
      },
      "source": [
        "## 2. Selenium WebDriver\n",
        "- Selenium WebDriver is one of the most popular tools for **Web UI Automation**\n",
        "- It uses the WebDriver protocol to control a web browser, like Chrome, Firefox or Safari.\n",
        "- Selenium is really useful when you have to perform action on a website such as:\n",
        "  - clicking on buttons\n",
        "  - filling forms\n",
        "  - scrolling\n",
        "  - taking a screenshot\n",
        "  - execute Javascript code.\n",
        "- Installation:\n",
        "  - Install Selenium package:\n",
        "    - pip install selenium\n",
        "  - Download a webdirver based on your browser: https://www.selenium.dev/documentation/en/getting_started_with_webdriver/third_party_drivers_and_plugins/. `Be sure to download the latest version!`\n",
        "  - Place the webdrive (unzip it if the download is zipped) in a folder, e.g. a sub-folder called `drive` under the current working folder. When call selenium, point the `executable_path` parameter to that folder, i.e. `driver = webdriver.Firefox(executable_path='driver/geckodriver')`\n",
        "  - Here we use **Firefox**"
      ]
    },
    {
      "cell_type": "markdown",
      "metadata": {
        "id": "Nw_Cv6jjkewJ"
      },
      "source": [
        "## 3. Use of Selenium WebDriver\n",
        "\n",
        "### 3.1. **Navigating** (similar to beautifulsoup, but using different syntax)\n",
        "  * navigate to a link\n",
        "  * find elements by id, name, xpath, CSS selectors\n",
        "    * check this for detailed syntax: https://www.selenium.dev/documentation/en/getting_started_with_webdriver/locating_elements/\n",
        "  \n",
        "|    | requests/BeautifulSoup | Selenium WebDriver |\n",
        "| -- |:------------------      |:-----------|\n",
        "| Navigate to a link |   `requests.get(url)`           | `driver.get(url)`    |\n",
        "| find elements  | `soup.select()` | `driver.find_element_by_id()`<br> `driver.find_element_by_tag_name()` <br> `find_element_by_css_selector()`, <br> ...|\n",
        "| get attributes of <br>element (say `p`) | `p.attrs` <br>    `p[\"class\"]` | `p.get_attribute(\"class\")` |\n",
        "| get tag name | `p.name` | `p.tag_name` |\n",
        ""
      ]
    },
    {
      "cell_type": "code",
      "execution_count": null,
      "metadata": {
        "id": "3q9dv-ldkewK"
      },
      "outputs": [],
      "source": []
    },
    {
      "cell_type": "code",
      "execution_count": null,
      "metadata": {
        "id": "JCaWR0COkewK"
      },
      "outputs": [],
      "source": [
        "# Exercise 3.1.1 Scrape using Selenium\n",
        "\n",
        "from selenium import webdriver\n",
        "from selenium.webdriver.common.by import By\n",
        "from selenium.webdriver.support.ui import WebDriverWait\n",
        "from selenium.webdriver.support import expected_conditions\n",
        "\n",
        "# for Firefox browser, do the following\n",
        "# (1) find the path where you save the webdriver\n",
        "# executable_path = 'driver/geckodriver'\n",
        "executable_path = 'c:\\driver\\geckodriver.exe'\n",
        "\n",
        "# (2) initial the driver\n",
        "driver = webdriver.Firefox(executable_path=executable_path)\n",
        "\n",
        "# Selenium is built in in Safari\n",
        "# Make sure you enable \"Develop -> Allow Remote Automation\"\n",
        "#driver = webdriver.Safari()\n",
        "\n",
        "# send a request\n",
        "driver.get('https://www.quora.com/topic/Machine-Learning')\n",
        "\n",
        "# you should see a Firefox window open"
      ]
    },
    {
      "cell_type": "code",
      "execution_count": null,
      "metadata": {
        "id": "Zd3vxebEkewL"
      },
      "outputs": [],
      "source": [
        "# Exercise 3.1.2. Select truncated text using Selenium\n",
        "\n",
        "# get all questions using css selector\n",
        "questions=driver.\\\n",
        "   find_elements_by_css_selector(\"span.q-box.qu-userSelect--text\")\n",
        "\n",
        "for i, q in enumerate(questions):\n",
        "    print(i, q.text)\n",
        "    print(\"\\n\")\n",
        "\n",
        "# close the webdriver. The firefox window closes\n",
        "driver.quit()"
      ]
    },
    {
      "cell_type": "markdown",
      "metadata": {
        "id": "jsKL_BEJkewL"
      },
      "source": [
        "### 3.2. Simulates users' actions performed in a web browser.\n",
        "\n",
        "  - click a button\n",
        "    * e.g. submit_button.click()\n",
        "  - fill a form\n",
        "    * e.g. text_box.send_keys(\"enter some text\")\n",
        "  - scroll page down or up\n",
        "    * e.g. body.send_keys(Keys.PAGE_DOWN)\n",
        "  - move between windows and frames\n",
        "    * e.g. driver.switch_to_frame(\"frameName\")\n",
        "  ...\n",
        "  - For details see https://selenium-python.readthedocs.io/navigating.html"
      ]
    },
    {
      "cell_type": "code",
      "execution_count": null,
      "metadata": {
        "id": "KLfZeOHikewM"
      },
      "outputs": [],
      "source": [
        "# 3.2.1 Simulate \"click\"\n",
        "# Click \"more\" link to get full answer\n",
        "\n",
        "driver = webdriver.Firefox(executable_path=executable_path)\n",
        "\n",
        "#driver = webdriver.Safari()\n",
        "\n",
        "driver.get('https://www.quora.com/topic/Machine-Learning')\n",
        "\n",
        "driver.implicitly_wait(10)  # set implict wait\n",
        "\n"
      ]
    },
    {
      "cell_type": "code",
      "execution_count": null,
      "metadata": {
        "id": "_vdMq-0LkewN"
      },
      "outputs": [],
      "source": [
        "\n",
        "# locate a \"more\" link by css selector\n",
        "more_link=driver.\\\n",
        "find_element_by_css_selector(\"div.q-text.qu-cursor--pointer.qt_read_more\")\n",
        "\n",
        "# click the link element\n",
        "more_link.click()\n",
        "\n",
        "# Check firefox browser to see an expanded answer"
      ]
    },
    {
      "cell_type": "code",
      "execution_count": null,
      "metadata": {
        "id": "rY2dy6HzkewN"
      },
      "outputs": [],
      "source": [
        "driver.quit()"
      ]
    },
    {
      "cell_type": "code",
      "execution_count": null,
      "metadata": {
        "id": "UKGG7ywxkewN",
        "outputId": "1bccd347-d974-48df-e4f9-14f7f199de2f"
      },
      "outputs": [
        {
          "name": "stdout",
          "output_type": "stream",
          "text": [
            "0 What is a neural network in layman’s terms?\n",
            "\n",
            "\n",
            "1 I've recently completed my PhD in statistics. I would like to get a second PhD in machine learning. Am I in the correct way? What should I do?\n",
            "\n",
            "\n",
            "2 What do people think of the TensorFlow sucks article?\n",
            "\n",
            "\n",
            "3 Is a single layered ReLu network still a universal approximator?\n",
            "\n",
            "\n",
            "4 Why is gradient descent so effective in machine learning?\n",
            "\n",
            "\n",
            "5 What's something about machine learning that only a professional would know?\n",
            "\n",
            "\n",
            "6 What are must-do's for a PhD student in Machine learning?\n",
            "\n",
            "\n",
            "7 What do you think of Noam Chomsky's view on modern AI?\n",
            "\n",
            "\n",
            "8 If an artificial neural net has 100 billion nodes, could it become as intelligent as a human?\n",
            "\n",
            "\n",
            "9 What is an intuitive explanation of Convolutional Neural Networks?\n",
            "\n",
            "\n",
            "10 What is something about the field of data science that only a professional would know?\n",
            "\n",
            "\n",
            "11 What is an intuitive explanation of singular value decomposition (SVD)?\n",
            "\n",
            "\n",
            "12 What are kernels in machine learning and SVM and why do we need them?\n",
            "\n",
            "\n",
            "13 In Neural Network, each neuron in a hidden layer is said to focus on a certain feature, take eye for example, but how does it deduce what an eye is since the meaning of eye can be a combination of eyebrow and teeth, or some other combinations?\n",
            "\n",
            "\n",
            "14 Is data science just simply cleaning data and putting it into a model with already built in algorithms?\n",
            "\n",
            "\n",
            "15 Are AI-generated images the end of art and artists?\n",
            "\n",
            "\n",
            "16 What do natural language processing algorithms look like?\n",
            "\n",
            "\n",
            "17 What's the difference between reinforcement Learning and Deep-learning?\n",
            "\n",
            "\n",
            "18 What is it like to be a machine learning researcher at Facebook?\n",
            "\n",
            "\n",
            "19 How often do you use label encoding in your work as a data scientist?\n",
            "\n",
            "\n",
            "20 Is machine learning in general harder than software/web development? Is finding a machine learning job harder?\n",
            "\n",
            "\n",
            "21 Are any areas of the English language still out of reach for machine translation?\n",
            "\n",
            "\n",
            "22 How long did it take you to learn machine learning to get a job?\n",
            "\n",
            "\n",
            "23 What are the must-read papers on data mining and machine learning?\n",
            "\n",
            "\n",
            "24 What does it mean that we don't really understand what happens in neural networks?\n",
            "\n",
            "\n",
            "25 What is mirror descent and how is it different from gradient descent?\n",
            "\n",
            "\n",
            "26 Which should I learn first for data science, Python or statistics?\n",
            "\n",
            "\n",
            "27 As a data scientist, how can I transition to be a machine learning engineer?\n",
            "\n",
            "\n",
            "28 What is the sigmoid function, and what is its use in machine learning's neural networks? How about the sigmoid derivative function?\n",
            "\n",
            "\n",
            "29 Are you worried about the possible effects of artificial intelligence?\n",
            "\n",
            "\n",
            "30 Andrew Ng's courses are old and I'm not sure if they’re useful now. So what's the best course for beginners on Machine Learning in 2018?\n",
            "\n",
            "\n",
            "31 Why do many data scientists complain that Kaggle's data is clean even though it's usually in 5-6 separate files with tons of features missing a lot of values?\n",
            "\n",
            "\n",
            "32 What are three machine learning algorithms you would recommend an aspiring data scientist learn thoroughly before moving onto others?\n",
            "\n",
            "\n",
            "33 How does Boston Dynamics use AI/machine learning?\n",
            "\n",
            "\n",
            "34 Is machine learning plateauing?\n",
            "\n",
            "\n",
            "35 What fallacies do amateur machine learning engineers make that experienced ones don't?\n",
            "\n",
            "\n",
            "36 Is it getting harder to break into machine learning?\n",
            "\n",
            "\n",
            "37 Are you a self-taught machine learning engineer? If yes, how did you do it, and how long did it take you?\n",
            "\n",
            "\n",
            "38 What is one-hot encoding and when is it used in data science?\n",
            "\n",
            "\n",
            "39 What are some software and skills that every data scientist should know (excluding R, Matlab, and Hadoop)? Also, what are some resources for learning Hadoop?\n",
            "\n",
            "\n",
            "40 What is the future of performance enhancement?\n",
            "\n",
            "\n",
            "41 Is a neural network actually a good model of how the brain works?\n",
            "\n",
            "\n",
            "42 What are the biggest misconceptions about AI?\n",
            "\n",
            "\n",
            "43 How are machine learning projects managed?\n",
            "\n",
            "\n",
            "44 What is the weirdest thing a neural network has done?\n",
            "\n",
            "\n",
            "45 Why is deep learning so easy?\n",
            "\n",
            "\n",
            "46 How do I get started in machine learning theory and programming?\n",
            "\n",
            "\n",
            "47 How do you explain Machine Learning and Data Mining to non Computer Science people?\n",
            "\n",
            "\n",
            "48 What is hard sigmoid in artificial neural networks? Why is it faster than standard sigmoid? Are there any disadvantages over the standard sigmoid?\n",
            "\n",
            "\n",
            "49 In movies based on real life, do directors use AI, computer vision etc., to pick the actors who most resemble the historical characters?\n",
            "\n",
            "\n"
          ]
        }
      ],
      "source": [
        "# Scroll down to load more questions\n",
        "import time\n",
        "\n",
        "driver = webdriver.Firefox(executable_path=executable_path)\n",
        "\n",
        "#driver = webdriver.Safari()\n",
        "driver.get('https://www.quora.com/topic/Machine-Learning')\n",
        "\n",
        "# scroll down 5 times\n",
        "for i in range(5):\n",
        "    driver.execute_script(\"window.scrollTo(0, \\\n",
        "    document.body.scrollHeight);\")\n",
        "\n",
        "    # wait for the content to be loaded\n",
        "    time.sleep(2)\n",
        "\n",
        "questions=driver.\\\n",
        "   find_elements_by_css_selector(\"span.q-box.qu-userSelect--text\")\n",
        "\n",
        "for i, q in enumerate(questions):\n",
        "    print(i, q.text)\n",
        "    print(\"\\n\")\n"
      ]
    },
    {
      "cell_type": "code",
      "execution_count": null,
      "metadata": {
        "id": "DnRNuXRmkewO"
      },
      "outputs": [],
      "source": []
    },
    {
      "cell_type": "markdown",
      "metadata": {
        "id": "5zTaC2LEkewO"
      },
      "source": [
        "### 3.3. Wait\n",
        "  - Because of the use of AJAX technologies, web elements often load at different time intervals.\n",
        "  - This makes locating elements difficult.\n",
        "    - if an element is not loaded,  a locating function will raise an ElementNotVisibleException exception.\n",
        "  - Two types of waits\n",
        "    - `implicit`: When a Webdriver locates for any element, but the element is not available, instead of throwing \"No Such Element Exception\" immediately, the Webdriver waits for a certain amount of time. By the time it is still not available, then the error is thrown.\n",
        "      * Implicit wait is set at the driver level and applies to any locating function\n",
        "    - `explicit`: WebDriver waits for a certain condition to occur before proceeding further with execution\n",
        "      * Explicit wait is set at each locating function"
      ]
    },
    {
      "cell_type": "markdown",
      "metadata": {
        "id": "UsITJ1orkewP"
      },
      "source": [
        "Assume you're looking for a question `How should you start a career in Machine Learning?`, but you're not sure if this question has been loaded into the page\n",
        "- Case 1: If this question is not in the page, you get an error immediately\n",
        "- Case 2: If it takes time to load the question, use implict wait to wait for some time\n",
        "- Case 3: You can keep scroll down until the question has been loaded or max tries reached\n",
        "    - Use `try ... else` block to handle the exception more elegently"
      ]
    },
    {
      "cell_type": "code",
      "execution_count": null,
      "metadata": {
        "id": "SaFT-4N2kewP",
        "outputId": "4e9e9de1-f102-4de6-b24f-adec674b5f99"
      },
      "outputs": [
        {
          "ename": "NoSuchElementException",
          "evalue": "Message: Unable to locate element: a[href=\"https://www.quora.com/Are-you-worried-about-the-possible-effects-of-artificial-intelligence\"]\n",
          "output_type": "error",
          "traceback": [
            "\u001b[1;31m---------------------------------------------------------------------------\u001b[0m",
            "\u001b[1;31mNoSuchElementException\u001b[0m                    Traceback (most recent call last)",
            "\u001b[1;32mc:\\Users\\jorda\\Documents\\Jobs\\Stevens\\2022F BIA 660-B\\Web_Scraping_II_Selenium.ipynb Cell 17\u001b[0m in \u001b[0;36m<cell line: 7>\u001b[1;34m()\u001b[0m\n\u001b[0;32m      <a href='vscode-notebook-cell:/c%3A/Users/jorda/Documents/Jobs/Stevens/2022F%20BIA%20660-B/Web_Scraping_II_Selenium.ipynb#X16sZmlsZQ%3D%3D?line=3'>4</a>\u001b[0m driver \u001b[39m=\u001b[39m webdriver\u001b[39m.\u001b[39mFirefox(executable_path\u001b[39m=\u001b[39mexecutable_path)\n\u001b[0;32m      <a href='vscode-notebook-cell:/c%3A/Users/jorda/Documents/Jobs/Stevens/2022F%20BIA%20660-B/Web_Scraping_II_Selenium.ipynb#X16sZmlsZQ%3D%3D?line=4'>5</a>\u001b[0m driver\u001b[39m.\u001b[39mget(\u001b[39m'\u001b[39m\u001b[39mhttps://www.quora.com/topic/Machine-Learning\u001b[39m\u001b[39m'\u001b[39m)\n\u001b[1;32m----> <a href='vscode-notebook-cell:/c%3A/Users/jorda/Documents/Jobs/Stevens/2022F%20BIA%20660-B/Web_Scraping_II_Selenium.ipynb#X16sZmlsZQ%3D%3D?line=6'>7</a>\u001b[0m q \u001b[39m=\u001b[39m driver\u001b[39m.\u001b[39;49mfind_element_by_css_selector(\u001b[39m'\u001b[39;49m\u001b[39ma[href=\u001b[39;49m\u001b[39m\"\u001b[39;49m\u001b[39mhttps://www.quora.com/Are-you-worried-about-the-possible-effects-of-artificial-intelligence\u001b[39;49m\u001b[39m\"\u001b[39;49m\u001b[39m]\u001b[39;49m\u001b[39m'\u001b[39;49m)\n\u001b[0;32m      <a href='vscode-notebook-cell:/c%3A/Users/jorda/Documents/Jobs/Stevens/2022F%20BIA%20660-B/Web_Scraping_II_Selenium.ipynb#X16sZmlsZQ%3D%3D?line=8'>9</a>\u001b[0m \u001b[39mprint\u001b[39m(q\u001b[39m.\u001b[39mtext)\n\u001b[0;32m     <a href='vscode-notebook-cell:/c%3A/Users/jorda/Documents/Jobs/Stevens/2022F%20BIA%20660-B/Web_Scraping_II_Selenium.ipynb#X16sZmlsZQ%3D%3D?line=9'>10</a>\u001b[0m driver\u001b[39m.\u001b[39mquit()\n",
            "File \u001b[1;32mc:\\Users\\jorda\\anaconda3\\envs\\WH2\\lib\\site-packages\\selenium\\webdriver\\remote\\webdriver.py:598\u001b[0m, in \u001b[0;36mWebDriver.find_element_by_css_selector\u001b[1;34m(self, css_selector)\u001b[0m\n\u001b[0;32m    582\u001b[0m \u001b[39mdef\u001b[39;00m \u001b[39mfind_element_by_css_selector\u001b[39m(\u001b[39mself\u001b[39m, css_selector):\n\u001b[0;32m    583\u001b[0m     \u001b[39m\"\"\"\u001b[39;00m\n\u001b[0;32m    584\u001b[0m \u001b[39m    Finds an element by css selector.\u001b[39;00m\n\u001b[0;32m    585\u001b[0m \n\u001b[1;32m   (...)\u001b[0m\n\u001b[0;32m    596\u001b[0m \u001b[39m        element = driver.find_element_by_css_selector('#foo')\u001b[39;00m\n\u001b[0;32m    597\u001b[0m \u001b[39m    \"\"\"\u001b[39;00m\n\u001b[1;32m--> 598\u001b[0m     \u001b[39mreturn\u001b[39;00m \u001b[39mself\u001b[39;49m\u001b[39m.\u001b[39;49mfind_element(by\u001b[39m=\u001b[39;49mBy\u001b[39m.\u001b[39;49mCSS_SELECTOR, value\u001b[39m=\u001b[39;49mcss_selector)\n",
            "File \u001b[1;32mc:\\Users\\jorda\\anaconda3\\envs\\WH2\\lib\\site-packages\\selenium\\webdriver\\remote\\webdriver.py:976\u001b[0m, in \u001b[0;36mWebDriver.find_element\u001b[1;34m(self, by, value)\u001b[0m\n\u001b[0;32m    974\u001b[0m         by \u001b[39m=\u001b[39m By\u001b[39m.\u001b[39mCSS_SELECTOR\n\u001b[0;32m    975\u001b[0m         value \u001b[39m=\u001b[39m \u001b[39m'\u001b[39m\u001b[39m[name=\u001b[39m\u001b[39m\"\u001b[39m\u001b[39m%s\u001b[39;00m\u001b[39m\"\u001b[39m\u001b[39m]\u001b[39m\u001b[39m'\u001b[39m \u001b[39m%\u001b[39m value\n\u001b[1;32m--> 976\u001b[0m \u001b[39mreturn\u001b[39;00m \u001b[39mself\u001b[39;49m\u001b[39m.\u001b[39;49mexecute(Command\u001b[39m.\u001b[39;49mFIND_ELEMENT, {\n\u001b[0;32m    977\u001b[0m     \u001b[39m'\u001b[39;49m\u001b[39musing\u001b[39;49m\u001b[39m'\u001b[39;49m: by,\n\u001b[0;32m    978\u001b[0m     \u001b[39m'\u001b[39;49m\u001b[39mvalue\u001b[39;49m\u001b[39m'\u001b[39;49m: value})[\u001b[39m'\u001b[39m\u001b[39mvalue\u001b[39m\u001b[39m'\u001b[39m]\n",
            "File \u001b[1;32mc:\\Users\\jorda\\anaconda3\\envs\\WH2\\lib\\site-packages\\selenium\\webdriver\\remote\\webdriver.py:321\u001b[0m, in \u001b[0;36mWebDriver.execute\u001b[1;34m(self, driver_command, params)\u001b[0m\n\u001b[0;32m    319\u001b[0m response \u001b[39m=\u001b[39m \u001b[39mself\u001b[39m\u001b[39m.\u001b[39mcommand_executor\u001b[39m.\u001b[39mexecute(driver_command, params)\n\u001b[0;32m    320\u001b[0m \u001b[39mif\u001b[39;00m response:\n\u001b[1;32m--> 321\u001b[0m     \u001b[39mself\u001b[39;49m\u001b[39m.\u001b[39;49merror_handler\u001b[39m.\u001b[39;49mcheck_response(response)\n\u001b[0;32m    322\u001b[0m     response[\u001b[39m'\u001b[39m\u001b[39mvalue\u001b[39m\u001b[39m'\u001b[39m] \u001b[39m=\u001b[39m \u001b[39mself\u001b[39m\u001b[39m.\u001b[39m_unwrap_value(\n\u001b[0;32m    323\u001b[0m         response\u001b[39m.\u001b[39mget(\u001b[39m'\u001b[39m\u001b[39mvalue\u001b[39m\u001b[39m'\u001b[39m, \u001b[39mNone\u001b[39;00m))\n\u001b[0;32m    324\u001b[0m     \u001b[39mreturn\u001b[39;00m response\n",
            "File \u001b[1;32mc:\\Users\\jorda\\anaconda3\\envs\\WH2\\lib\\site-packages\\selenium\\webdriver\\remote\\errorhandler.py:242\u001b[0m, in \u001b[0;36mErrorHandler.check_response\u001b[1;34m(self, response)\u001b[0m\n\u001b[0;32m    240\u001b[0m         alert_text \u001b[39m=\u001b[39m value[\u001b[39m'\u001b[39m\u001b[39malert\u001b[39m\u001b[39m'\u001b[39m]\u001b[39m.\u001b[39mget(\u001b[39m'\u001b[39m\u001b[39mtext\u001b[39m\u001b[39m'\u001b[39m)\n\u001b[0;32m    241\u001b[0m     \u001b[39mraise\u001b[39;00m exception_class(message, screen, stacktrace, alert_text)\n\u001b[1;32m--> 242\u001b[0m \u001b[39mraise\u001b[39;00m exception_class(message, screen, stacktrace)\n",
            "\u001b[1;31mNoSuchElementException\u001b[0m: Message: Unable to locate element: a[href=\"https://www.quora.com/Are-you-worried-about-the-possible-effects-of-artificial-intelligence\"]\n"
          ]
        }
      ],
      "source": [
        "# If the element is not there, you'll see an error immediately\n",
        "\n",
        "#driver = webdriver.Safari()\n",
        "driver = webdriver.Firefox(executable_path=executable_path)\n",
        "driver.get('https://www.quora.com/topic/Machine-Learning')\n",
        "\n",
        "q = driver.find_element_by_css_selector('a[href=\"https://www.quora.com/Are-you-worried-about-the-possible-effects-of-artificial-intelligence\"]')\n",
        "\n",
        "print(q.text)\n",
        "driver.quit()"
      ]
    },
    {
      "cell_type": "code",
      "execution_count": null,
      "metadata": {
        "id": "s0iIFMH-kewP"
      },
      "outputs": [],
      "source": [
        "# If the element is not there, you'll see an error after the waiting\n",
        "\n",
        "driver = webdriver.Firefox(executable_path=executable_path)\n",
        "driver.get('https://www.quora.com/topic/Machine-Learning')\n",
        "\n",
        "driver.implicitly_wait(10)\n",
        "\n",
        "q = driver.find_element_by_css_selector('a[href=\"https://www.quora.com/Are-you-worried-about-the-possible-effects-of-artificial-intelligence\"]')\n",
        "\n",
        "print(q.text)\n",
        "driver.quit()"
      ]
    },
    {
      "cell_type": "code",
      "execution_count": null,
      "metadata": {
        "id": "QkoyhijCkewP"
      },
      "outputs": [],
      "source": [
        "# If the element is not there,\n",
        "# you keep scrolling down until the element is there\n",
        "# or scrolling for max number of times\n",
        "# try except can catch the error\n",
        "\n",
        "driver = webdriver.Firefox(executable_path=executable_path)\n",
        "driver.get('https://www.quora.com/topic/Machine-Learning')\n",
        "\n",
        "found = False\n",
        "max_try = 10  # max number of scroll-downs\n",
        "cnt = 0\n",
        "\n",
        "while not found and cnt < max_try:\n",
        "\n",
        "    try:\n",
        "        # This waits up to 5 seconds before throwing a TimeoutException\n",
        "        # unless it finds the element to return within 10 seconds.\n",
        "\n",
        "        q = WebDriverWait(driver,5).until(\\\n",
        "                    expected_conditions.\\\n",
        "                    presence_of_element_located((By.CSS_SELECTOR, \\\n",
        "                    'a[href=\"https://www.quora.com/What-are-the-dark-sides-of-a-career-in-AI-machine-learning\"]')))\n",
        "\n",
        "        found = True\n",
        "        print(q.text)\n",
        "\n",
        "    except:     # item not there yet\n",
        "\n",
        "        driver.execute_script(\"window.scrollTo(0, \\\n",
        "        document.body.scrollHeight);\")\n",
        "\n",
        "        cnt += 1\n",
        "\n",
        "driver.quit()"
      ]
    },
    {
      "cell_type": "markdown",
      "metadata": {
        "id": "9O_kfo9gkewQ"
      },
      "source": [
        "# Stock Analysis"
      ]
    },
    {
      "cell_type": "code",
      "execution_count": null,
      "metadata": {
        "id": "HHHmK0srkewQ"
      },
      "outputs": [],
      "source": [
        "# 3.2.1 Simulate \"click\"\n",
        "# Click \"more\" link to get full answer\n",
        "\n",
        "driver = webdriver.Firefox(executable_path=executable_path)\n",
        "\n",
        "driver.get('https://stockanalysis.com/etf/')\n",
        "\n",
        "driver.implicitly_wait(10)  # set implict wait\n",
        "\n"
      ]
    },
    {
      "cell_type": "code",
      "execution_count": null,
      "metadata": {
        "id": "11Lg_IjukewQ",
        "outputId": "3347b5de-d1d1-4ae4-8446-8865258c1630"
      },
      "outputs": [
        {
          "name": "stdout",
          "output_type": "stream",
          "text": [
            "0 AAA\n",
            "1 AAF First Priority CLO Bond ETF\n",
            "2 Fixed Income\n",
            "3 7.38M\n",
            "4 AAAU\n",
            "5 Goldman Sachs Physical Gold ETF\n",
            "6 Commodity\n",
            "7 476.15M\n",
            "8 AADR\n",
            "9 AdvisorShares Dorsey Wright ADR ETF\n",
            "...\n",
            "0 Equity\n",
            "1 24.29B\n",
            "2 DGRS\n",
            "3 WisdomTree U.S. SmallCap Quality Dividend Growth Fund\n",
            "4 Equity\n",
            "5 248.92M\n",
            "6 DGRW\n",
            "7 WisdomTree U.S. Quality Dividend Growth Fund\n",
            "8 Equity\n",
            "9 7.93B\n"
          ]
        }
      ],
      "source": [
        "# get all questions using css selector\n",
        "data=driver.find_elements_by_css_selector(\"td.svelte-1l0crez\")\n",
        "\n",
        "for i, q in enumerate(data[:10]):\n",
        "    print(i, q.text)\n",
        "print('...')\n",
        "for i, q in enumerate(data[-10:]):\n",
        "    print(i, q.text)\n"
      ]
    },
    {
      "cell_type": "code",
      "execution_count": null,
      "metadata": {
        "id": "dyNuixrFkewQ",
        "outputId": "6df24d28-8338-413d-f52f-1d8105b3e2c7"
      },
      "outputs": [
        {
          "ename": "NameError",
          "evalue": "name 'xxx' is not defined",
          "output_type": "error",
          "traceback": [
            "\u001b[1;31m---------------------------------------------------------------------------\u001b[0m",
            "\u001b[1;31mNameError\u001b[0m                                 Traceback (most recent call last)",
            "\u001b[1;32mc:\\Users\\jorda\\Documents\\Jobs\\Stevens\\2022F BIA 660-B\\Web_Scraping_II_Selenium.ipynb Cell 23\u001b[0m in \u001b[0;36m<cell line: 7>\u001b[1;34m()\u001b[0m\n\u001b[0;32m      <a href='vscode-notebook-cell:/c%3A/Users/jorda/Documents/Jobs/Stevens/2022F%20BIA%20660-B/Web_Scraping_II_Selenium.ipynb#X43sZmlsZQ%3D%3D?line=3'>4</a>\u001b[0m \u001b[39mfor\u001b[39;00m idx \u001b[39min\u001b[39;00m \u001b[39mrange\u001b[39m(\u001b[39m0\u001b[39m,\u001b[39mlen\u001b[39m(payload),\u001b[39m4\u001b[39m):\n\u001b[0;32m      <a href='vscode-notebook-cell:/c%3A/Users/jorda/Documents/Jobs/Stevens/2022F%20BIA%20660-B/Web_Scraping_II_Selenium.ipynb#X43sZmlsZQ%3D%3D?line=4'>5</a>\u001b[0m     data\u001b[39m.\u001b[39mappend([d\u001b[39m.\u001b[39mtext \u001b[39mfor\u001b[39;00m d \u001b[39min\u001b[39;00m payload[idx:idx\u001b[39m+\u001b[39m\u001b[39m4\u001b[39m]])\n\u001b[1;32m----> <a href='vscode-notebook-cell:/c%3A/Users/jorda/Documents/Jobs/Stevens/2022F%20BIA%20660-B/Web_Scraping_II_Selenium.ipynb#X43sZmlsZQ%3D%3D?line=6'>7</a>\u001b[0m xxx\n",
            "\u001b[1;31mNameError\u001b[0m: name 'xxx' is not defined"
          ]
        }
      ],
      "source": [
        "# get all questions using css selector\n",
        "payload=driver.find_elements_by_css_selector(\"td.svelte-1l0crez\")\n",
        "data=[]\n",
        "for idx in range(0,len(payload),4):\n",
        "    data.append([d.text for d in payload[idx:idx+4]])\n"
      ]
    },
    {
      "cell_type": "code",
      "execution_count": null,
      "metadata": {
        "id": "_JKjOmLikewR",
        "outputId": "49492a3a-f33f-4768-a65f-8d50e10ae442"
      },
      "outputs": [
        {
          "data": {
            "text/html": [
              "<div>\n",
              "<style scoped>\n",
              "    .dataframe tbody tr th:only-of-type {\n",
              "        vertical-align: middle;\n",
              "    }\n",
              "\n",
              "    .dataframe tbody tr th {\n",
              "        vertical-align: top;\n",
              "    }\n",
              "\n",
              "    .dataframe thead th {\n",
              "        text-align: right;\n",
              "    }\n",
              "</style>\n",
              "<table border=\"1\" class=\"dataframe\">\n",
              "  <thead>\n",
              "    <tr style=\"text-align: right;\">\n",
              "      <th></th>\n",
              "      <th>0</th>\n",
              "      <th>1</th>\n",
              "      <th>2</th>\n",
              "      <th>3</th>\n",
              "    </tr>\n",
              "  </thead>\n",
              "  <tbody>\n",
              "    <tr>\n",
              "      <th>0</th>\n",
              "      <td>AAA</td>\n",
              "      <td>AAF First Priority CLO Bond ETF</td>\n",
              "      <td>Fixed Income</td>\n",
              "      <td>7.38M</td>\n",
              "    </tr>\n",
              "    <tr>\n",
              "      <th>1</th>\n",
              "      <td>AAAU</td>\n",
              "      <td>Goldman Sachs Physical Gold ETF</td>\n",
              "      <td>Commodity</td>\n",
              "      <td>476.15M</td>\n",
              "    </tr>\n",
              "    <tr>\n",
              "      <th>2</th>\n",
              "      <td>AADR</td>\n",
              "      <td>AdvisorShares Dorsey Wright ADR ETF</td>\n",
              "      <td>Equity</td>\n",
              "      <td>28.79M</td>\n",
              "    </tr>\n",
              "    <tr>\n",
              "      <th>3</th>\n",
              "      <td>AAPB</td>\n",
              "      <td>GraniteShares 1.75x Long AAPL Daily ETF</td>\n",
              "      <td>Equity</td>\n",
              "      <td>790.40K</td>\n",
              "    </tr>\n",
              "    <tr>\n",
              "      <th>4</th>\n",
              "      <td>AAPD</td>\n",
              "      <td>Direxion Daily AAPL Bear 1X Shares</td>\n",
              "      <td>Equity</td>\n",
              "      <td>23.38M</td>\n",
              "    </tr>\n",
              "    <tr>\n",
              "      <th>...</th>\n",
              "      <td>...</td>\n",
              "      <td>...</td>\n",
              "      <td>...</td>\n",
              "      <td>...</td>\n",
              "    </tr>\n",
              "    <tr>\n",
              "      <th>495</th>\n",
              "      <td>DGL</td>\n",
              "      <td>Invesco DB Gold Fund</td>\n",
              "      <td>Commodity</td>\n",
              "      <td>85.83M</td>\n",
              "    </tr>\n",
              "    <tr>\n",
              "      <th>496</th>\n",
              "      <td>DGRE</td>\n",
              "      <td>WisdomTree Emerging Markets Quality Dividend G...</td>\n",
              "      <td>Equity</td>\n",
              "      <td>86.62M</td>\n",
              "    </tr>\n",
              "    <tr>\n",
              "      <th>497</th>\n",
              "      <td>DGRO</td>\n",
              "      <td>iShares Core Dividend Growth ETF</td>\n",
              "      <td>Equity</td>\n",
              "      <td>24.29B</td>\n",
              "    </tr>\n",
              "    <tr>\n",
              "      <th>498</th>\n",
              "      <td>DGRS</td>\n",
              "      <td>WisdomTree U.S. SmallCap Quality Dividend Grow...</td>\n",
              "      <td>Equity</td>\n",
              "      <td>248.92M</td>\n",
              "    </tr>\n",
              "    <tr>\n",
              "      <th>499</th>\n",
              "      <td>DGRW</td>\n",
              "      <td>WisdomTree U.S. Quality Dividend Growth Fund</td>\n",
              "      <td>Equity</td>\n",
              "      <td>7.93B</td>\n",
              "    </tr>\n",
              "  </tbody>\n",
              "</table>\n",
              "<p>500 rows × 4 columns</p>\n",
              "</div>"
            ],
            "text/plain": [
              "        0                                                  1             2  \\\n",
              "0     AAA                    AAF First Priority CLO Bond ETF  Fixed Income   \n",
              "1    AAAU                    Goldman Sachs Physical Gold ETF     Commodity   \n",
              "2    AADR                AdvisorShares Dorsey Wright ADR ETF        Equity   \n",
              "3    AAPB            GraniteShares 1.75x Long AAPL Daily ETF        Equity   \n",
              "4    AAPD                 Direxion Daily AAPL Bear 1X Shares        Equity   \n",
              "..    ...                                                ...           ...   \n",
              "495   DGL                               Invesco DB Gold Fund     Commodity   \n",
              "496  DGRE  WisdomTree Emerging Markets Quality Dividend G...        Equity   \n",
              "497  DGRO                   iShares Core Dividend Growth ETF        Equity   \n",
              "498  DGRS  WisdomTree U.S. SmallCap Quality Dividend Grow...        Equity   \n",
              "499  DGRW       WisdomTree U.S. Quality Dividend Growth Fund        Equity   \n",
              "\n",
              "           3  \n",
              "0      7.38M  \n",
              "1    476.15M  \n",
              "2     28.79M  \n",
              "3    790.40K  \n",
              "4     23.38M  \n",
              "..       ...  \n",
              "495   85.83M  \n",
              "496   86.62M  \n",
              "497   24.29B  \n",
              "498  248.92M  \n",
              "499    7.93B  \n",
              "\n",
              "[500 rows x 4 columns]"
            ]
          },
          "execution_count": 15,
          "metadata": {},
          "output_type": "execute_result"
        }
      ],
      "source": [
        "import pandas as pd\n",
        "pd.DataFrame(data)"
      ]
    },
    {
      "cell_type": "code",
      "execution_count": null,
      "metadata": {
        "id": "CNo3JG2YkewR",
        "outputId": "8d4cb4b1-9f1d-4324-a8fa-89adfc0c7bd9"
      },
      "outputs": [
        {
          "name": "stdout",
          "output_type": "stream",
          "text": [
            "Previous\n",
            "Next\n"
          ]
        },
        {
          "ename": "ElementClickInterceptedException",
          "evalue": "Message: Element <button class=\"relative inline-flex items-center whitespace-nowrap rounded-md border border-gray-300 bg-white py-1.5 text-xs font-medium text-gray-700 hover:bg-gray-50 xs:py-2 bp:text-sm px-2 xs:pl-1 xs:pr-1.5 sm:pl-3 sm:pr-1 disabled:bg-gray-50\"> is not clickable at point (853,862) because another element <iframe id=\"google_ads_iframe_/5206,21976450666/stockanalysis/etfs_3\" name=\"google_ads_iframe_/5206,21976450666/stockanalysis/etfs_3\"> obscures it\n",
          "output_type": "error",
          "traceback": [
            "\u001b[1;31m---------------------------------------------------------------------------\u001b[0m",
            "\u001b[1;31mElementClickInterceptedException\u001b[0m          Traceback (most recent call last)",
            "\u001b[1;32mc:\\Users\\jorda\\Documents\\Jobs\\Stevens\\2022F BIA 660-B\\Web_Scraping_II_Selenium.ipynb Cell 23\u001b[0m in \u001b[0;36m<cell line: 13>\u001b[1;34m()\u001b[0m\n\u001b[0;32m     <a href='vscode-notebook-cell:/c%3A/Users/jorda/Documents/Jobs/Stevens/2022F%20BIA%20660-B/Web_Scraping_II_Selenium.ipynb#X30sZmlsZQ%3D%3D?line=9'>10</a>\u001b[0m         more_link\u001b[39m=\u001b[39mlink\n\u001b[0;32m     <a href='vscode-notebook-cell:/c%3A/Users/jorda/Documents/Jobs/Stevens/2022F%20BIA%20660-B/Web_Scraping_II_Selenium.ipynb#X30sZmlsZQ%3D%3D?line=11'>12</a>\u001b[0m \u001b[39m# click the link element\u001b[39;00m\n\u001b[1;32m---> <a href='vscode-notebook-cell:/c%3A/Users/jorda/Documents/Jobs/Stevens/2022F%20BIA%20660-B/Web_Scraping_II_Selenium.ipynb#X30sZmlsZQ%3D%3D?line=12'>13</a>\u001b[0m more_link\u001b[39m.\u001b[39;49mclick()\n",
            "File \u001b[1;32mc:\\Users\\jorda\\anaconda3\\envs\\WH2\\lib\\site-packages\\selenium\\webdriver\\remote\\webelement.py:80\u001b[0m, in \u001b[0;36mWebElement.click\u001b[1;34m(self)\u001b[0m\n\u001b[0;32m     78\u001b[0m \u001b[39mdef\u001b[39;00m \u001b[39mclick\u001b[39m(\u001b[39mself\u001b[39m):\n\u001b[0;32m     79\u001b[0m     \u001b[39m\"\"\"Clicks the element.\"\"\"\u001b[39;00m\n\u001b[1;32m---> 80\u001b[0m     \u001b[39mself\u001b[39;49m\u001b[39m.\u001b[39;49m_execute(Command\u001b[39m.\u001b[39;49mCLICK_ELEMENT)\n",
            "File \u001b[1;32mc:\\Users\\jorda\\anaconda3\\envs\\WH2\\lib\\site-packages\\selenium\\webdriver\\remote\\webelement.py:633\u001b[0m, in \u001b[0;36mWebElement._execute\u001b[1;34m(self, command, params)\u001b[0m\n\u001b[0;32m    631\u001b[0m     params \u001b[39m=\u001b[39m {}\n\u001b[0;32m    632\u001b[0m params[\u001b[39m'\u001b[39m\u001b[39mid\u001b[39m\u001b[39m'\u001b[39m] \u001b[39m=\u001b[39m \u001b[39mself\u001b[39m\u001b[39m.\u001b[39m_id\n\u001b[1;32m--> 633\u001b[0m \u001b[39mreturn\u001b[39;00m \u001b[39mself\u001b[39;49m\u001b[39m.\u001b[39;49m_parent\u001b[39m.\u001b[39;49mexecute(command, params)\n",
            "File \u001b[1;32mc:\\Users\\jorda\\anaconda3\\envs\\WH2\\lib\\site-packages\\selenium\\webdriver\\remote\\webdriver.py:321\u001b[0m, in \u001b[0;36mWebDriver.execute\u001b[1;34m(self, driver_command, params)\u001b[0m\n\u001b[0;32m    319\u001b[0m response \u001b[39m=\u001b[39m \u001b[39mself\u001b[39m\u001b[39m.\u001b[39mcommand_executor\u001b[39m.\u001b[39mexecute(driver_command, params)\n\u001b[0;32m    320\u001b[0m \u001b[39mif\u001b[39;00m response:\n\u001b[1;32m--> 321\u001b[0m     \u001b[39mself\u001b[39;49m\u001b[39m.\u001b[39;49merror_handler\u001b[39m.\u001b[39;49mcheck_response(response)\n\u001b[0;32m    322\u001b[0m     response[\u001b[39m'\u001b[39m\u001b[39mvalue\u001b[39m\u001b[39m'\u001b[39m] \u001b[39m=\u001b[39m \u001b[39mself\u001b[39m\u001b[39m.\u001b[39m_unwrap_value(\n\u001b[0;32m    323\u001b[0m         response\u001b[39m.\u001b[39mget(\u001b[39m'\u001b[39m\u001b[39mvalue\u001b[39m\u001b[39m'\u001b[39m, \u001b[39mNone\u001b[39;00m))\n\u001b[0;32m    324\u001b[0m     \u001b[39mreturn\u001b[39;00m response\n",
            "File \u001b[1;32mc:\\Users\\jorda\\anaconda3\\envs\\WH2\\lib\\site-packages\\selenium\\webdriver\\remote\\errorhandler.py:242\u001b[0m, in \u001b[0;36mErrorHandler.check_response\u001b[1;34m(self, response)\u001b[0m\n\u001b[0;32m    240\u001b[0m         alert_text \u001b[39m=\u001b[39m value[\u001b[39m'\u001b[39m\u001b[39malert\u001b[39m\u001b[39m'\u001b[39m]\u001b[39m.\u001b[39mget(\u001b[39m'\u001b[39m\u001b[39mtext\u001b[39m\u001b[39m'\u001b[39m)\n\u001b[0;32m    241\u001b[0m     \u001b[39mraise\u001b[39;00m exception_class(message, screen, stacktrace, alert_text)\n\u001b[1;32m--> 242\u001b[0m \u001b[39mraise\u001b[39;00m exception_class(message, screen, stacktrace)\n",
            "\u001b[1;31mElementClickInterceptedException\u001b[0m: Message: Element <button class=\"relative inline-flex items-center whitespace-nowrap rounded-md border border-gray-300 bg-white py-1.5 text-xs font-medium text-gray-700 hover:bg-gray-50 xs:py-2 bp:text-sm px-2 xs:pl-1 xs:pr-1.5 sm:pl-3 sm:pr-1 disabled:bg-gray-50\"> is not clickable at point (853,862) because another element <iframe id=\"google_ads_iframe_/5206,21976450666/stockanalysis/etfs_3\" name=\"google_ads_iframe_/5206,21976450666/stockanalysis/etfs_3\"> obscures it\n"
          ]
        }
      ],
      "source": [
        "#<button  class=\"relative inline-flex items-center whitespace-nowrap rounded-md border border-gray-300 bg-white py-1.5 text-xs font-medium text-gray-700 hover:bg-gray-50 xs:py-2 bp:text-sm px-2 xs:pl-1 xs:pr-1.5 sm:pl-3 sm:pr-1 disabled:bg-gray-50\"><span class=\"hidden sm:inline\">Next</span>\n",
        "\n",
        "# locate a \"more\" link by css selector\n",
        "more_links=driver.find_elements_by_css_selector(\"button.relative.inline-flex\")\n",
        "\n",
        "more_link=None\n",
        "for link in more_links:\n",
        "    print(link.text)\n",
        "    if link.text=='Next':\n",
        "        more_link=link\n",
        "\n",
        "# click the link element\n",
        "more_link.click()\n",
        "\n",
        "# Check firefox browser to see an expanded answer"
      ]
    },
    {
      "cell_type": "code",
      "execution_count": null,
      "metadata": {
        "id": "xKKiekqBkewR",
        "outputId": "19169d4a-be0b-4851-80be-6db14af5249f"
      },
      "outputs": [
        {
          "name": "stdout",
          "output_type": "stream",
          "text": [
            "2344\n"
          ]
        }
      ],
      "source": []
    },
    {
      "cell_type": "code",
      "execution_count": null,
      "metadata": {
        "id": "Q8Nan6FlkewR",
        "outputId": "21e04422-1db1-41db-dafb-d2853da0b955"
      },
      "outputs": [
        {
          "name": "stdout",
          "output_type": "stream",
          "text": [
            "Previous\n",
            "Next\n",
            "Failed to click\n",
            "2344\n",
            "Previous\n",
            "Next\n",
            "Failed to click\n",
            "2344\n",
            "Previous\n",
            "Next\n",
            "Failed to click\n",
            "2344\n",
            "Previous\n",
            "Next\n",
            "Failed to click\n",
            "2344\n",
            "Previous\n",
            "Next\n",
            "Failed to click\n",
            "2344\n"
          ]
        }
      ],
      "source": [
        "import time\n",
        "# scroll down 5 times\n",
        "for i in range(5):\n",
        "    # locate a \"more\" link by css selector\n",
        "    more_links=driver.find_elements_by_css_selector(\"button.relative.inline-flex\")\n",
        "\n",
        "    more_link=None\n",
        "    for link in more_links:\n",
        "        print(link.text)\n",
        "        if link.text=='Next':\n",
        "            more_link=link\n",
        "    try:\n",
        "        # click the link element\n",
        "        more_link.click()\n",
        "        print('Click success')\n",
        "        break\n",
        "    except:\n",
        "        print('Failed to click')\n",
        "\n",
        "        driver.execute_script(\"window.scrollTo(0,document.body.scrollHeight);\")\n",
        "        time.sleep(1) # wait for the content to be loaded\n",
        "        height = driver.execute_script(\"return document.body.scrollHeight\")\n",
        "        print(height)\n",
        "\n",
        "        continue\n"
      ]
    },
    {
      "cell_type": "code",
      "execution_count": null,
      "metadata": {
        "id": "SHe60uu1kewS",
        "outputId": "fa22aac2-d399-4f18-be23-6b34d38dc6b0"
      },
      "outputs": [
        {
          "name": "stdout",
          "output_type": "stream",
          "text": [
            "0 21613\n",
            "Previous\n",
            "Next\n",
            "Failed to click\n",
            "20731.5 21613\n",
            "Previous\n",
            "Next\n",
            "Click success\n"
          ]
        }
      ],
      "source": [
        "import time\n",
        "\n",
        "driver.execute_script(\"window.scrollTo(0,-5);\")\n",
        "height = driver.execute_script(\"return document.body.scrollHeight\")\n",
        "YOffset=driver.execute_script(\"return window.pageYOffset;\");\n",
        "print(f'YOffset {YOffset} height {height}')\n",
        "\n",
        "# scroll to bottom and move up 100 pixels\n",
        "for i in range(int(height),int(height*0.8),-100):\n",
        "    # locate a \"more\" link by css selector\n",
        "    more_links=driver.find_elements_by_css_selector(\"button.relative.inline-flex\")\n",
        "\n",
        "    more_link=None\n",
        "    for link in more_links:\n",
        "        print(link.text)\n",
        "        if link.text=='Next':\n",
        "            more_link=link\n",
        "    try:\n",
        "        # click the link element\n",
        "        more_link.click()\n",
        "        print('Click success')\n",
        "        break\n",
        "    except:\n",
        "        print('Failed to click')\n",
        "\n",
        "        driver.execute_script(f\"window.scrollTo(0,{i});\")\n",
        "        # driver.execute_script(\"window.scrollBy(0,1);\")\n",
        "        time.sleep(1) # wait for the content to be loaded\n",
        "        height = driver.execute_script(\"return document.body.scrollHeight\")\n",
        "        YOffset=driver.execute_script(\"return window.pageYOffset;\");\n",
        "        print(f'YOffset {YOffset} height {height}')\n",
        "\n",
        "\n",
        "        continue\n"
      ]
    },
    {
      "cell_type": "markdown",
      "metadata": {
        "id": "QM4K33GJkewS"
      },
      "source": [
        "## From the top"
      ]
    },
    {
      "cell_type": "code",
      "execution_count": null,
      "metadata": {
        "id": "HOhHVPBPkewS",
        "outputId": "921dd979-c5fb-4cff-94ea-6489b91de6c7"
      },
      "outputs": [
        {
          "name": "stdout",
          "output_type": "stream",
          "text": [
            "YOffset 0 height 21613\n",
            "Previous\n",
            "Next\n",
            "Failed to click\n",
            "YOffset 20731.5 height 21773\n",
            "Previous\n",
            "Next\n",
            "Click success\n",
            "YOffset 20731.5 height 21773\n",
            "Previous\n",
            "Next\n",
            "Click success\n",
            "YOffset 20731.5 height 21773\n",
            "Previous\n",
            "Next\n",
            "Click success\n",
            "YOffset 20731.5 height 21773\n",
            "Previous\n",
            "Next\n",
            "Click success\n",
            "YOffset 20731.5 height 21773\n",
            "Previous\n",
            "Next\n",
            "Click success\n",
            "YOffset 20731.5 height 21773\n",
            "Previous\n",
            "Next\n",
            "Click success\n",
            "YOffset 1462.5 height 2344\n",
            "Previous\n",
            "Next\n",
            "Failed to click\n",
            "YOffset 1462.5 height 2344\n",
            "Previous\n",
            "Next\n",
            "Failed to click\n",
            "YOffset 1302.5 height 2344\n",
            "Previous\n",
            "Next\n",
            "Failed to click\n",
            "YOffset 1462.5 height 2344\n",
            "Previous\n",
            "Next\n",
            "Failed to click\n",
            "YOffset 1462.5 height 2344\n",
            "Previous\n",
            "Next\n",
            "Failed to click\n",
            "YOffset 1462.5 height 2344\n",
            "YOffset 1462.5 height 2344\n",
            "Previous\n",
            "Next\n",
            "Failed to click\n",
            "YOffset 1462.5 height 2344\n",
            "Previous\n",
            "Next\n",
            "Failed to click\n",
            "YOffset 1462.5 height 2344\n",
            "Previous\n",
            "Next\n",
            "Failed to click\n",
            "YOffset 1462.5 height 2344\n",
            "Previous\n",
            "Next\n",
            "Failed to click\n",
            "YOffset 1462.5 height 2344\n",
            "Previous\n",
            "Next\n",
            "Failed to click\n",
            "YOffset 1462.5 height 2344\n",
            "YOffset 1462.5 height 2344\n",
            "Previous\n",
            "Next\n",
            "Failed to click\n",
            "YOffset 1462.5 height 2344\n",
            "Previous\n",
            "Next\n",
            "Failed to click\n",
            "YOffset 1462.5 height 2344\n",
            "Previous\n",
            "Next\n",
            "Failed to click\n",
            "YOffset 1462.5 height 2344\n",
            "Previous\n",
            "Next\n",
            "Failed to click\n",
            "YOffset 1462.5 height 2344\n",
            "Previous\n",
            "Next\n",
            "Failed to click\n",
            "YOffset 1462.5 height 2344\n",
            "YOffset 1462.5 height 2344\n",
            "Previous\n",
            "Next\n",
            "Failed to click\n",
            "YOffset 1462.5 height 2344\n",
            "Previous\n",
            "Next\n",
            "Failed to click\n",
            "YOffset 1012.5 height 2344\n",
            "Previous\n",
            "Next\n",
            "Failed to click\n",
            "YOffset 1462.5 height 2344\n",
            "Previous\n",
            "Next\n",
            "Failed to click\n",
            "YOffset 1462.5 height 2344\n",
            "Previous\n",
            "Next\n",
            "Failed to click\n",
            "YOffset 1462.5 height 2344\n"
          ]
        }
      ],
      "source": [
        "import time\n",
        "\n",
        "driver = webdriver.Firefox(executable_path=executable_path)\n",
        "\n",
        "driver.get('https://stockanalysis.com/etf/')\n",
        "\n",
        "driver.implicitly_wait(2)  # set implict wait\n",
        "\n",
        "\n",
        "data=[]\n",
        "\n",
        "for page in range(10):\n",
        "\n",
        "    # get all data using css selector\n",
        "    payload=driver.find_elements_by_css_selector(\"td.svelte-1l0crez\")\n",
        "    for idx in range(0,len(payload),4):\n",
        "        data.append([d.text for d in payload[idx:idx+4]])\n",
        "\n",
        "    #Click next\n",
        "    height = driver.execute_script(\"return document.body.scrollHeight\")\n",
        "    YOffset=driver.execute_script(\"return window.pageYOffset;\");\n",
        "    print(f'YOffset {YOffset} height {height}')\n",
        "\n",
        "    # scroll to bottom and move up 100 pixels\n",
        "    for i in range(int(height),int(height*0.8),-100):\n",
        "        # locate a \"more\" link by css selector\n",
        "        more_links=driver.find_elements_by_css_selector(\"button.relative.inline-flex\")\n",
        "\n",
        "        more_link=None\n",
        "        for link in more_links:\n",
        "            print(link.text)\n",
        "            if link.text=='Next':\n",
        "                more_link=link\n",
        "        try:\n",
        "            # click the link element\n",
        "            more_link.click()\n",
        "            print('Click success')\n",
        "            break\n",
        "        except:\n",
        "            print('Failed to click')\n",
        "\n",
        "            driver.execute_script(f\"window.scrollTo(0,{i});\")\n",
        "            # driver.execute_script(\"window.scrollBy(0,1);\")\n",
        "            time.sleep(1) # wait for the content to be loaded\n",
        "            height = driver.execute_script(\"return document.body.scrollHeight\")\n",
        "            YOffset=driver.execute_script(\"return window.pageYOffset;\");\n",
        "            print(f'YOffset {YOffset} height {height}')\n",
        "\n",
        "            continue\n",
        "\n",
        ""
      ]
    },
    {
      "cell_type": "code",
      "execution_count": null,
      "metadata": {
        "id": "JfpsIV7qkewS"
      },
      "outputs": [],
      "source": [
        "alletfs=pd.DataFrame(data)\n",
        "alletfs.columns=['Ticker','Name','Class','AUM']"
      ]
    },
    {
      "cell_type": "code",
      "execution_count": null,
      "metadata": {
        "id": "dN_Fafc2kewT"
      },
      "outputs": [],
      "source": [
        "alletfs=alletfs.groupby('Ticker').head(1)"
      ]
    },
    {
      "cell_type": "code",
      "execution_count": null,
      "metadata": {
        "id": "NyxYftyNkewT",
        "outputId": "61072694-3808-4334-d9ef-fc11a5073093"
      },
      "outputs": [
        {
          "data": {
            "text/html": [
              "<div>\n",
              "<style scoped>\n",
              "    .dataframe tbody tr th:only-of-type {\n",
              "        vertical-align: middle;\n",
              "    }\n",
              "\n",
              "    .dataframe tbody tr th {\n",
              "        vertical-align: top;\n",
              "    }\n",
              "\n",
              "    .dataframe thead th {\n",
              "        text-align: right;\n",
              "    }\n",
              "</style>\n",
              "<table border=\"1\" class=\"dataframe\">\n",
              "  <thead>\n",
              "    <tr style=\"text-align: right;\">\n",
              "      <th></th>\n",
              "      <th>Ticker</th>\n",
              "      <th>Name</th>\n",
              "      <th>Class</th>\n",
              "      <th>AUM</th>\n",
              "    </tr>\n",
              "  </thead>\n",
              "  <tbody>\n",
              "    <tr>\n",
              "      <th>0</th>\n",
              "      <td>AAA</td>\n",
              "      <td>AAF First Priority CLO Bond ETF</td>\n",
              "      <td>Fixed Income</td>\n",
              "      <td>7.38M</td>\n",
              "    </tr>\n",
              "    <tr>\n",
              "      <th>1</th>\n",
              "      <td>AAAU</td>\n",
              "      <td>Goldman Sachs Physical Gold ETF</td>\n",
              "      <td>Commodity</td>\n",
              "      <td>476.15M</td>\n",
              "    </tr>\n",
              "    <tr>\n",
              "      <th>2</th>\n",
              "      <td>AADR</td>\n",
              "      <td>AdvisorShares Dorsey Wright ADR ETF</td>\n",
              "      <td>Equity</td>\n",
              "      <td>28.79M</td>\n",
              "    </tr>\n",
              "    <tr>\n",
              "      <th>3</th>\n",
              "      <td>AAPB</td>\n",
              "      <td>GraniteShares 1.75x Long AAPL Daily ETF</td>\n",
              "      <td>Equity</td>\n",
              "      <td>790.40K</td>\n",
              "    </tr>\n",
              "    <tr>\n",
              "      <th>4</th>\n",
              "      <td>AAPD</td>\n",
              "      <td>Direxion Daily AAPL Bear 1X Shares</td>\n",
              "      <td>Equity</td>\n",
              "      <td>23.38M</td>\n",
              "    </tr>\n",
              "    <tr>\n",
              "      <th>...</th>\n",
              "      <td>...</td>\n",
              "      <td>...</td>\n",
              "      <td>...</td>\n",
              "      <td>...</td>\n",
              "    </tr>\n",
              "    <tr>\n",
              "      <th>3009</th>\n",
              "      <td>ZIG</td>\n",
              "      <td>Acquirers Fund</td>\n",
              "      <td>Equity</td>\n",
              "      <td>45.02M</td>\n",
              "    </tr>\n",
              "    <tr>\n",
              "      <th>3010</th>\n",
              "      <td>ZROZ</td>\n",
              "      <td>PIMCO 25 Plus Year Zero Coupon U.S. Treasury I...</td>\n",
              "      <td>Fixed Income</td>\n",
              "      <td>822.73M</td>\n",
              "    </tr>\n",
              "    <tr>\n",
              "      <th>3011</th>\n",
              "      <td>ZSB</td>\n",
              "      <td>USCF Sustainable Battery Metals Strategy Fund</td>\n",
              "      <td>Commodity</td>\n",
              "      <td>2.65M</td>\n",
              "    </tr>\n",
              "    <tr>\n",
              "      <th>3012</th>\n",
              "      <td>ZSL</td>\n",
              "      <td>ProShares UltraShort Silver</td>\n",
              "      <td>Commodity</td>\n",
              "      <td>27.79M</td>\n",
              "    </tr>\n",
              "    <tr>\n",
              "      <th>3013</th>\n",
              "      <td>ZSPY</td>\n",
              "      <td>ASYMmetric Smart Alpha S&amp;P 500 ETF</td>\n",
              "      <td>null</td>\n",
              "      <td>757.00K</td>\n",
              "    </tr>\n",
              "  </tbody>\n",
              "</table>\n",
              "<p>3014 rows × 4 columns</p>\n",
              "</div>"
            ],
            "text/plain": [
              "     Ticker                                               Name         Class  \\\n",
              "0       AAA                    AAF First Priority CLO Bond ETF  Fixed Income   \n",
              "1      AAAU                    Goldman Sachs Physical Gold ETF     Commodity   \n",
              "2      AADR                AdvisorShares Dorsey Wright ADR ETF        Equity   \n",
              "3      AAPB            GraniteShares 1.75x Long AAPL Daily ETF        Equity   \n",
              "4      AAPD                 Direxion Daily AAPL Bear 1X Shares        Equity   \n",
              "...     ...                                                ...           ...   \n",
              "3009    ZIG                                     Acquirers Fund        Equity   \n",
              "3010   ZROZ  PIMCO 25 Plus Year Zero Coupon U.S. Treasury I...  Fixed Income   \n",
              "3011    ZSB      USCF Sustainable Battery Metals Strategy Fund     Commodity   \n",
              "3012    ZSL                        ProShares UltraShort Silver     Commodity   \n",
              "3013   ZSPY                 ASYMmetric Smart Alpha S&P 500 ETF          null   \n",
              "\n",
              "          AUM  \n",
              "0       7.38M  \n",
              "1     476.15M  \n",
              "2      28.79M  \n",
              "3     790.40K  \n",
              "4      23.38M  \n",
              "...       ...  \n",
              "3009   45.02M  \n",
              "3010  822.73M  \n",
              "3011    2.65M  \n",
              "3012   27.79M  \n",
              "3013  757.00K  \n",
              "\n",
              "[3014 rows x 4 columns]"
            ]
          },
          "execution_count": 25,
          "metadata": {},
          "output_type": "execute_result"
        }
      ],
      "source": [
        "alletfs"
      ]
    }
  ],
  "metadata": {
    "kernelspec": {
      "display_name": "WH2",
      "language": "python",
      "name": "python3"
    },
    "language_info": {
      "codemirror_mode": {
        "name": "ipython",
        "version": 3
      },
      "file_extension": ".py",
      "mimetype": "text/x-python",
      "name": "python",
      "nbconvert_exporter": "python",
      "pygments_lexer": "ipython3",
      "version": "3.10.2"
    },
    "vscode": {
      "interpreter": {
        "hash": "3a5de6fe33d779fbe671e77d5a88ec4faa84593e2a0d55096d2c364194fba35f"
      }
    },
    "colab": {
      "provenance": []
    }
  },
  "nbformat": 4,
  "nbformat_minor": 0
}